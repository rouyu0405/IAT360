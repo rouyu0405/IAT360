{
  "nbformat": 4,
  "nbformat_minor": 0,
  "metadata": {
    "colab": {
      "provenance": [],
      "authorship_tag": "ABX9TyOnlTnngahPsm1v95jgJvJe",
      "include_colab_link": true
    },
    "kernelspec": {
      "name": "python3",
      "display_name": "Python 3"
    },
    "language_info": {
      "name": "python"
    }
  },
  "cells": [
    {
      "cell_type": "markdown",
      "metadata": {
        "id": "view-in-github",
        "colab_type": "text"
      },
      "source": [
        "<a href=\"https://colab.research.google.com/github/rouyu0405/IAT360/blob/main/Computer_Vision_Project.ipynb\" target=\"_parent\"><img src=\"https://colab.research.google.com/assets/colab-badge.svg\" alt=\"Open In Colab\"/></a>"
      ]
    },
    {
      "cell_type": "code",
      "execution_count": null,
      "metadata": {
        "id": "luRALpA55FBQ",
        "colab": {
          "base_uri": "https://localhost:8080/",
          "height": 144
        },
        "outputId": "fb77b1b9-97ae-4217-9b0c-49a67cb6cd9d"
      },
      "outputs": [
        {
          "output_type": "error",
          "ename": "NameError",
          "evalue": "name 'sajcabckjakja' is not defined",
          "traceback": [
            "\u001b[0;31m---------------------------------------------------------------------------\u001b[0m",
            "\u001b[0;31mNameError\u001b[0m                                 Traceback (most recent call last)",
            "\u001b[0;32m/tmp/ipython-input-752315487.py\u001b[0m in \u001b[0;36m<cell line: 0>\u001b[0;34m()\u001b[0m\n\u001b[0;32m----> 1\u001b[0;31m \u001b[0msajcabckjakja\u001b[0m\u001b[0;34m\u001b[0m\u001b[0;34m\u001b[0m\u001b[0m\n\u001b[0m",
            "\u001b[0;31mNameError\u001b[0m: name 'sajcabckjakja' is not defined"
          ]
        }
      ],
      "source": [
        "sajcabckjakja"
      ]
    },
    {
      "cell_type": "code",
      "source": [
        "!pip -q install ultralytics==8.3.0 roboflow pandas\n",
        "from ultralytics import YOLO\n",
        "from roboflow import Roboflow\n",
        "import pandas as pd, os, glob\n"
      ],
      "metadata": {
        "id": "1ZpAT-vfN0fV"
      },
      "execution_count": null,
      "outputs": []
    },
    {
      "cell_type": "code",
      "source": [
        "# 用你自己的 API、workspace、project、version\n",
        "RF_API_KEY = \"YOUR_API_KEY\"\n",
        "RF_WORKSPACE = \"your-workspace\"          # 例如 \"jiawei-shi\"\n",
        "RF_PROJECT   = \"fall-pose\"               # 你项目的短名 slug\n",
        "RF_VERSION   = 1                         # 版本号\n",
        "\n",
        "rf = Roboflow(api_key=RF_API_KEY)\n",
        "project = rf.workspace(RF_WORKSPACE).project(RF_PROJECT)\n",
        "dataset = project.version(RF_VERSION).download(\"yolov8\")  # 注意：pose 项目也用 \"yolov8\" 格式\n",
        "data_yaml = os.path.join(dataset.location, \"data.yaml\")\n",
        "print(\"data.yaml =\", data_yaml)\n",
        "\n",
        "# 小检查：YOLOv8 Pose 的 data.yaml 通常包含 kpt_shape 等字段\n",
        "print(\"\\n--- data.yaml 前几行 ---\")\n",
        "print(open(data_yaml).read().splitlines()[:20])\n"
      ],
      "metadata": {
        "id": "EyRtTtk_N4J-"
      },
      "execution_count": null,
      "outputs": []
    },
    {
      "cell_type": "code",
      "source": [
        "# 设定一个独立的实验名，便于之后对比\n",
        "EXP1_NAME = \"exp_baseline_b8_lr1e-3\"\n",
        "\n",
        "model = YOLO(\"yolov8n-pose.pt\")  # 关键点检测的预训练权重\n",
        "results = model.train(\n",
        "    data=data_yaml,\n",
        "    epochs=50,          # 课程常用 30~100；先 50\n",
        "    imgsz=640,\n",
        "    batch=8,            # baseline：batch=8\n",
        "    lr0=1e-3,           # baseline：初始学习率\n",
        "    project=\"runs_pose\",\n",
        "    name=EXP1_NAME,\n",
        "    verbose=True\n",
        ")\n"
      ],
      "metadata": {
        "id": "GrlPc7meN69Y"
      },
      "execution_count": null,
      "outputs": []
    },
    {
      "cell_type": "code",
      "source": [
        "# (A) 验证集评估\n",
        "val_res = model.val(data=data_yaml, split='val', project=\"runs_pose\", name=f\"{EXP1_NAME}_val\")\n",
        "print(val_res)  # 控制台会打印总体指标\n",
        "\n",
        "# (B) 用测试集出可视化预测图（放进报告）\n",
        "test_images_dir = os.path.join(dataset.location, \"test\", \"images\")\n",
        "pred_res = model.predict(\n",
        "    source=test_images_dir,\n",
        "    conf=0.25,\n",
        "    save=True,            # 保存可视化\n",
        "    project=\"runs_pose\",\n",
        "    name=f\"{EXP1_NAME}_pred\"\n",
        ")\n",
        "print(\"Predictions saved to:\", pred_res[0].save_dir)\n"
      ],
      "metadata": {
        "id": "HJMqyeVvN-JD"
      },
      "execution_count": null,
      "outputs": []
    },
    {
      "cell_type": "code",
      "source": [
        "EXP2_NAME = \"exp_batch16_lr5e-4\"\n",
        "\n",
        "model2 = YOLO(\"yolov8n-pose.pt\")\n",
        "results2 = model2.train(\n",
        "    data=data_yaml,\n",
        "    epochs=50,\n",
        "    imgsz=640,\n",
        "    batch=16,          # 改动1：更大 batch\n",
        "    lr0=5e-4,          # 改动2：更小学习率（你也可以只改一个超参）\n",
        "    project=\"runs_pose\",\n",
        "    name=EXP2_NAME,\n",
        "    verbose=True\n",
        ")\n",
        "\n",
        "# 评估 + 预测（与 baseline 同步生成报告素材）\n",
        "val_res2 = model2.val(data=data_yaml, split='val', project=\"runs_pose\", name=f\"{EXP2_NAME}_val\")\n",
        "test_images_dir = os.path.join(dataset.location, \"test\", \"images\")\n",
        "pred_res2 = model2.predict(\n",
        "    source=test_images_dir,\n",
        "    conf=0.25,\n",
        "    save=True,\n",
        "    project=\"runs_pose\",\n",
        "    name=f\"{EXP2_NAME}_pred\"\n",
        ")\n"
      ],
      "metadata": {
        "id": "ctJyBoP4OAi8"
      },
      "execution_count": null,
      "outputs": []
    },
    {
      "cell_type": "code",
      "source": [
        "def load_last_row(csv_path):\n",
        "    df = pd.read_csv(csv_path)\n",
        "    return df.tail(1).assign(csv=os.path.basename(csv_path))\n",
        "\n",
        "csv1 = f\"runs_pose/{EXP1_NAME}/results.csv\"\n",
        "csv2 = f\"runs_pose/{EXP2_NAME}/results.csv\"\n",
        "\n",
        "df1 = load_last_row(csv1)\n",
        "df2 = load_last_row(csv2)\n",
        "compare = pd.concat([df1, df2], ignore_index=True)\n",
        "\n",
        "# 常见列名（不同任务略有差异）：precision, recall, map50, map, kpt_mAP50, kpt_mAP50-95 等\n",
        "print(compare.filter(regex=\"(precision|recall|f1|map|kpt|csv)\", axis=1))\n"
      ],
      "metadata": {
        "id": "Tl7KtUJOODPF"
      },
      "execution_count": null,
      "outputs": []
    },
    {
      "cell_type": "code",
      "source": [
        "# 导出 ONNX / TorchScript 等（可选）\n",
        "best1 = f\"runs_pose/{EXP1_NAME}/weights/best.pt\"\n",
        "best2 = f\"runs_pose/{EXP2_NAME}/weights/best.pt\"\n",
        "YOLO(best1).export(format=\"onnx\")   # -> runs_pose/exp.../weights/best.onnx\n",
        "YOLO(best2).export(format=\"onnx\")\n"
      ],
      "metadata": {
        "id": "ju4t_gkcOF58"
      },
      "execution_count": null,
      "outputs": []
    }
  ]
}